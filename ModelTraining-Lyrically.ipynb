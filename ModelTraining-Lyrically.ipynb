{
 "cells": [
  {
   "cell_type": "code",
   "execution_count": 43,
   "id": "f1e98a95-8034-45bb-a235-26adcfc9d174",
   "metadata": {},
   "outputs": [],
   "source": [
    "import pandas as pd"
   ]
  },
  {
   "cell_type": "code",
   "execution_count": 45,
   "id": "80d43341-4131-4613-ae62-258129114f7c",
   "metadata": {},
   "outputs": [
    {
     "data": {
      "text/html": [
       "<div>\n",
       "<style scoped>\n",
       "    .dataframe tbody tr th:only-of-type {\n",
       "        vertical-align: middle;\n",
       "    }\n",
       "\n",
       "    .dataframe tbody tr th {\n",
       "        vertical-align: top;\n",
       "    }\n",
       "\n",
       "    .dataframe thead th {\n",
       "        text-align: right;\n",
       "    }\n",
       "</style>\n",
       "<table border=\"1\" class=\"dataframe\">\n",
       "  <thead>\n",
       "    <tr style=\"text-align: right;\">\n",
       "      <th></th>\n",
       "      <th>artist</th>\n",
       "      <th>song</th>\n",
       "      <th>link</th>\n",
       "      <th>text</th>\n",
       "    </tr>\n",
       "  </thead>\n",
       "  <tbody>\n",
       "    <tr>\n",
       "      <th>0</th>\n",
       "      <td>ABBA</td>\n",
       "      <td>Ahe's My Kind Of Girl</td>\n",
       "      <td>/a/abba/ahes+my+kind+of+girl_20598417.html</td>\n",
       "      <td>Look at her face, it's a wonderful face  \\r\\nA...</td>\n",
       "    </tr>\n",
       "    <tr>\n",
       "      <th>1</th>\n",
       "      <td>ABBA</td>\n",
       "      <td>Andante, Andante</td>\n",
       "      <td>/a/abba/andante+andante_20002708.html</td>\n",
       "      <td>Take it easy with me, please  \\r\\nTouch me gen...</td>\n",
       "    </tr>\n",
       "    <tr>\n",
       "      <th>2</th>\n",
       "      <td>ABBA</td>\n",
       "      <td>As Good As New</td>\n",
       "      <td>/a/abba/as+good+as+new_20003033.html</td>\n",
       "      <td>I'll never know why I had to go  \\r\\nWhy I had...</td>\n",
       "    </tr>\n",
       "    <tr>\n",
       "      <th>3</th>\n",
       "      <td>ABBA</td>\n",
       "      <td>Bang</td>\n",
       "      <td>/a/abba/bang_20598415.html</td>\n",
       "      <td>Making somebody happy is a question of give an...</td>\n",
       "    </tr>\n",
       "    <tr>\n",
       "      <th>4</th>\n",
       "      <td>ABBA</td>\n",
       "      <td>Bang-A-Boomerang</td>\n",
       "      <td>/a/abba/bang+a+boomerang_20002668.html</td>\n",
       "      <td>Making somebody happy is a question of give an...</td>\n",
       "    </tr>\n",
       "    <tr>\n",
       "      <th>...</th>\n",
       "      <td>...</td>\n",
       "      <td>...</td>\n",
       "      <td>...</td>\n",
       "      <td>...</td>\n",
       "    </tr>\n",
       "    <tr>\n",
       "      <th>57645</th>\n",
       "      <td>Ziggy Marley</td>\n",
       "      <td>Good Old Days</td>\n",
       "      <td>/z/ziggy+marley/good+old+days_10198588.html</td>\n",
       "      <td>Irie days come on play  \\r\\nLet the angels fly...</td>\n",
       "    </tr>\n",
       "    <tr>\n",
       "      <th>57646</th>\n",
       "      <td>Ziggy Marley</td>\n",
       "      <td>Hand To Mouth</td>\n",
       "      <td>/z/ziggy+marley/hand+to+mouth_20531167.html</td>\n",
       "      <td>Power to the workers  \\r\\nMore power  \\r\\nPowe...</td>\n",
       "    </tr>\n",
       "    <tr>\n",
       "      <th>57647</th>\n",
       "      <td>Zwan</td>\n",
       "      <td>Come With Me</td>\n",
       "      <td>/z/zwan/come+with+me_20148981.html</td>\n",
       "      <td>all you need  \\r\\nis something i'll believe  \\...</td>\n",
       "    </tr>\n",
       "    <tr>\n",
       "      <th>57648</th>\n",
       "      <td>Zwan</td>\n",
       "      <td>Desire</td>\n",
       "      <td>/z/zwan/desire_20148986.html</td>\n",
       "      <td>northern star  \\r\\nam i frightened  \\r\\nwhere ...</td>\n",
       "    </tr>\n",
       "    <tr>\n",
       "      <th>57649</th>\n",
       "      <td>Zwan</td>\n",
       "      <td>Heartsong</td>\n",
       "      <td>/z/zwan/heartsong_20148991.html</td>\n",
       "      <td>come in  \\r\\nmake yourself at home  \\r\\ni'm a ...</td>\n",
       "    </tr>\n",
       "  </tbody>\n",
       "</table>\n",
       "<p>57650 rows × 4 columns</p>\n",
       "</div>"
      ],
      "text/plain": [
       "             artist                   song  \\\n",
       "0              ABBA  Ahe's My Kind Of Girl   \n",
       "1              ABBA       Andante, Andante   \n",
       "2              ABBA         As Good As New   \n",
       "3              ABBA                   Bang   \n",
       "4              ABBA       Bang-A-Boomerang   \n",
       "...             ...                    ...   \n",
       "57645  Ziggy Marley          Good Old Days   \n",
       "57646  Ziggy Marley          Hand To Mouth   \n",
       "57647          Zwan           Come With Me   \n",
       "57648          Zwan                 Desire   \n",
       "57649          Zwan              Heartsong   \n",
       "\n",
       "                                              link  \\\n",
       "0       /a/abba/ahes+my+kind+of+girl_20598417.html   \n",
       "1            /a/abba/andante+andante_20002708.html   \n",
       "2             /a/abba/as+good+as+new_20003033.html   \n",
       "3                       /a/abba/bang_20598415.html   \n",
       "4           /a/abba/bang+a+boomerang_20002668.html   \n",
       "...                                            ...   \n",
       "57645  /z/ziggy+marley/good+old+days_10198588.html   \n",
       "57646  /z/ziggy+marley/hand+to+mouth_20531167.html   \n",
       "57647           /z/zwan/come+with+me_20148981.html   \n",
       "57648                 /z/zwan/desire_20148986.html   \n",
       "57649              /z/zwan/heartsong_20148991.html   \n",
       "\n",
       "                                                    text  \n",
       "0      Look at her face, it's a wonderful face  \\r\\nA...  \n",
       "1      Take it easy with me, please  \\r\\nTouch me gen...  \n",
       "2      I'll never know why I had to go  \\r\\nWhy I had...  \n",
       "3      Making somebody happy is a question of give an...  \n",
       "4      Making somebody happy is a question of give an...  \n",
       "...                                                  ...  \n",
       "57645  Irie days come on play  \\r\\nLet the angels fly...  \n",
       "57646  Power to the workers  \\r\\nMore power  \\r\\nPowe...  \n",
       "57647  all you need  \\r\\nis something i'll believe  \\...  \n",
       "57648  northern star  \\r\\nam i frightened  \\r\\nwhere ...  \n",
       "57649  come in  \\r\\nmake yourself at home  \\r\\ni'm a ...  \n",
       "\n",
       "[57650 rows x 4 columns]"
      ]
     },
     "execution_count": 45,
     "metadata": {},
     "output_type": "execute_result"
    }
   ],
   "source": [
    "ds = pd.read_csv(\"spotify_millsongdata.csv\")\n",
    "ds"
   ]
  },
  {
   "cell_type": "code",
   "execution_count": 46,
   "id": "8ebec7f2-14e9-4dd9-a52f-a5531f18b6bf",
   "metadata": {},
   "outputs": [
    {
     "data": {
      "text/plain": [
       "artist    0\n",
       "song      0\n",
       "link      0\n",
       "text      0\n",
       "dtype: int64"
      ]
     },
     "execution_count": 46,
     "metadata": {},
     "output_type": "execute_result"
    }
   ],
   "source": [
    "#Check if data_set has empty values\n",
    "ds.isnull().sum()"
   ]
  },
  {
   "cell_type": "code",
   "execution_count": 49,
   "id": "45cb9942-02c2-43f9-a07f-6381b9a97db9",
   "metadata": {},
   "outputs": [
    {
     "data": {
      "text/html": [
       "<div>\n",
       "<style scoped>\n",
       "    .dataframe tbody tr th:only-of-type {\n",
       "        vertical-align: middle;\n",
       "    }\n",
       "\n",
       "    .dataframe tbody tr th {\n",
       "        vertical-align: top;\n",
       "    }\n",
       "\n",
       "    .dataframe thead th {\n",
       "        text-align: right;\n",
       "    }\n",
       "</style>\n",
       "<table border=\"1\" class=\"dataframe\">\n",
       "  <thead>\n",
       "    <tr style=\"text-align: right;\">\n",
       "      <th></th>\n",
       "      <th>artist</th>\n",
       "      <th>song</th>\n",
       "      <th>text</th>\n",
       "    </tr>\n",
       "  </thead>\n",
       "  <tbody>\n",
       "    <tr>\n",
       "      <th>0</th>\n",
       "      <td>Doors</td>\n",
       "      <td>The Wasp</td>\n",
       "      <td>I wanna tell you 'bout texas radio and the big...</td>\n",
       "    </tr>\n",
       "    <tr>\n",
       "      <th>1</th>\n",
       "      <td>Erasure</td>\n",
       "      <td>Here I Go Impossible Again</td>\n",
       "      <td>How many dreams am I looking for in your eyes,...</td>\n",
       "    </tr>\n",
       "    <tr>\n",
       "      <th>2</th>\n",
       "      <td>Kiss</td>\n",
       "      <td>Rock Hard</td>\n",
       "      <td>Hot lover, turn up the heat  \\r\\nI want your s...</td>\n",
       "    </tr>\n",
       "    <tr>\n",
       "      <th>3</th>\n",
       "      <td>Radiohead</td>\n",
       "      <td>Wish You Were Here</td>\n",
       "      <td>So, so you think you can tell  \\r\\nHeaven from...</td>\n",
       "    </tr>\n",
       "    <tr>\n",
       "      <th>4</th>\n",
       "      <td>Everclear</td>\n",
       "      <td>Tv Show</td>\n",
       "      <td>I walk around in the market  \\r\\nLate at night...</td>\n",
       "    </tr>\n",
       "    <tr>\n",
       "      <th>...</th>\n",
       "      <td>...</td>\n",
       "      <td>...</td>\n",
       "      <td>...</td>\n",
       "    </tr>\n",
       "    <tr>\n",
       "      <th>4995</th>\n",
       "      <td>Vanessa Williams</td>\n",
       "      <td>I'll Be Home For Christmas</td>\n",
       "      <td>I'll be home for christmas  \\r\\n  \\r\\nI'll be ...</td>\n",
       "    </tr>\n",
       "    <tr>\n",
       "      <th>4996</th>\n",
       "      <td>Erasure</td>\n",
       "      <td>Take Me Back</td>\n",
       "      <td>The way to your heart  \\r\\nThe way to your hea...</td>\n",
       "    </tr>\n",
       "    <tr>\n",
       "      <th>4997</th>\n",
       "      <td>Blur</td>\n",
       "      <td>Sunday, Sunday</td>\n",
       "      <td>Sunday, Sunday, here again in tidy attire  \\r\\...</td>\n",
       "    </tr>\n",
       "    <tr>\n",
       "      <th>4998</th>\n",
       "      <td>The Beatles</td>\n",
       "      <td>Bad To Me</td>\n",
       "      <td>If you ever leave me, I'll be sadand blue  \\r\\...</td>\n",
       "    </tr>\n",
       "    <tr>\n",
       "      <th>4999</th>\n",
       "      <td>Stevie Wonder</td>\n",
       "      <td>Queen In The Black</td>\n",
       "      <td>Excuse me please your majesty  \\r\\nI chance th...</td>\n",
       "    </tr>\n",
       "  </tbody>\n",
       "</table>\n",
       "<p>5000 rows × 3 columns</p>\n",
       "</div>"
      ],
      "text/plain": [
       "                artist                        song  \\\n",
       "0                Doors                    The Wasp   \n",
       "1              Erasure  Here I Go Impossible Again   \n",
       "2                 Kiss                   Rock Hard   \n",
       "3            Radiohead          Wish You Were Here   \n",
       "4            Everclear                     Tv Show   \n",
       "...                ...                         ...   \n",
       "4995  Vanessa Williams  I'll Be Home For Christmas   \n",
       "4996           Erasure                Take Me Back   \n",
       "4997              Blur              Sunday, Sunday   \n",
       "4998       The Beatles                   Bad To Me   \n",
       "4999     Stevie Wonder          Queen In The Black   \n",
       "\n",
       "                                                   text  \n",
       "0     I wanna tell you 'bout texas radio and the big...  \n",
       "1     How many dreams am I looking for in your eyes,...  \n",
       "2     Hot lover, turn up the heat  \\r\\nI want your s...  \n",
       "3     So, so you think you can tell  \\r\\nHeaven from...  \n",
       "4     I walk around in the market  \\r\\nLate at night...  \n",
       "...                                                 ...  \n",
       "4995  I'll be home for christmas  \\r\\n  \\r\\nI'll be ...  \n",
       "4996  The way to your heart  \\r\\nThe way to your hea...  \n",
       "4997  Sunday, Sunday, here again in tidy attire  \\r\\...  \n",
       "4998  If you ever leave me, I'll be sadand blue  \\r\\...  \n",
       "4999  Excuse me please your majesty  \\r\\nI chance th...  \n",
       "\n",
       "[5000 rows x 3 columns]"
      ]
     },
     "execution_count": 49,
     "metadata": {},
     "output_type": "execute_result"
    }
   ],
   "source": [
    "#Remove link as it is not nessary for our Spotify Web API\n",
    "# For the sake of running the code, sampling 10% of the data is manageable for laptops\n",
    "ds = ds.sample(5000).drop(\"link\", axis=1).reset_index(drop=True)\n",
    "ds"
   ]
  },
  {
   "cell_type": "code",
   "execution_count": 51,
   "id": "0a57410f-1654-4377-9169-707dee6236a7",
   "metadata": {},
   "outputs": [
    {
     "data": {
      "text/html": [
       "<div>\n",
       "<style scoped>\n",
       "    .dataframe tbody tr th:only-of-type {\n",
       "        vertical-align: middle;\n",
       "    }\n",
       "\n",
       "    .dataframe tbody tr th {\n",
       "        vertical-align: top;\n",
       "    }\n",
       "\n",
       "    .dataframe thead th {\n",
       "        text-align: right;\n",
       "    }\n",
       "</style>\n",
       "<table border=\"1\" class=\"dataframe\">\n",
       "  <thead>\n",
       "    <tr style=\"text-align: right;\">\n",
       "      <th></th>\n",
       "      <th>artist</th>\n",
       "      <th>song</th>\n",
       "      <th>text</th>\n",
       "    </tr>\n",
       "  </thead>\n",
       "  <tbody>\n",
       "    <tr>\n",
       "      <th>0</th>\n",
       "      <td>Doors</td>\n",
       "      <td>The Wasp</td>\n",
       "      <td>wanna tell you 'bout texas radio and the big ...</td>\n",
       "    </tr>\n",
       "    <tr>\n",
       "      <th>1</th>\n",
       "      <td>Erasure</td>\n",
       "      <td>Here I Go Impossible Again</td>\n",
       "      <td>how many dreams am i looking for in your eyes,...</td>\n",
       "    </tr>\n",
       "    <tr>\n",
       "      <th>2</th>\n",
       "      <td>Kiss</td>\n",
       "      <td>Rock Hard</td>\n",
       "      <td>hot lover, turn up the heat  \\r i want your su...</td>\n",
       "    </tr>\n",
       "    <tr>\n",
       "      <th>3</th>\n",
       "      <td>Radiohead</td>\n",
       "      <td>Wish You Were Here</td>\n",
       "      <td>so, so you think you can tell  \\r heaven from ...</td>\n",
       "    </tr>\n",
       "    <tr>\n",
       "      <th>4</th>\n",
       "      <td>Everclear</td>\n",
       "      <td>Tv Show</td>\n",
       "      <td>walk around in the market  \\r late at night  ...</td>\n",
       "    </tr>\n",
       "    <tr>\n",
       "      <th>...</th>\n",
       "      <td>...</td>\n",
       "      <td>...</td>\n",
       "      <td>...</td>\n",
       "    </tr>\n",
       "    <tr>\n",
       "      <th>4995</th>\n",
       "      <td>Vanessa Williams</td>\n",
       "      <td>I'll Be Home For Christmas</td>\n",
       "      <td>i'll be home for christmas  \\r   \\r i'll be ho...</td>\n",
       "    </tr>\n",
       "    <tr>\n",
       "      <th>4996</th>\n",
       "      <td>Erasure</td>\n",
       "      <td>Take Me Back</td>\n",
       "      <td>the way to your heart  \\r the way to your hear...</td>\n",
       "    </tr>\n",
       "    <tr>\n",
       "      <th>4997</th>\n",
       "      <td>Blur</td>\n",
       "      <td>Sunday, Sunday</td>\n",
       "      <td>sunday, sunday, here again in tidy attire  \\r ...</td>\n",
       "    </tr>\n",
       "    <tr>\n",
       "      <th>4998</th>\n",
       "      <td>The Beatles</td>\n",
       "      <td>Bad To Me</td>\n",
       "      <td>if you ever leave me, i'll be sadand blue  \\r ...</td>\n",
       "    </tr>\n",
       "    <tr>\n",
       "      <th>4999</th>\n",
       "      <td>Stevie Wonder</td>\n",
       "      <td>Queen In The Black</td>\n",
       "      <td>excuse me please your majesty  \\r i chance thi...</td>\n",
       "    </tr>\n",
       "  </tbody>\n",
       "</table>\n",
       "<p>5000 rows × 3 columns</p>\n",
       "</div>"
      ],
      "text/plain": [
       "                artist                        song  \\\n",
       "0                Doors                    The Wasp   \n",
       "1              Erasure  Here I Go Impossible Again   \n",
       "2                 Kiss                   Rock Hard   \n",
       "3            Radiohead          Wish You Were Here   \n",
       "4            Everclear                     Tv Show   \n",
       "...                ...                         ...   \n",
       "4995  Vanessa Williams  I'll Be Home For Christmas   \n",
       "4996           Erasure                Take Me Back   \n",
       "4997              Blur              Sunday, Sunday   \n",
       "4998       The Beatles                   Bad To Me   \n",
       "4999     Stevie Wonder          Queen In The Black   \n",
       "\n",
       "                                                   text  \n",
       "0      wanna tell you 'bout texas radio and the big ...  \n",
       "1     how many dreams am i looking for in your eyes,...  \n",
       "2     hot lover, turn up the heat  \\r i want your su...  \n",
       "3     so, so you think you can tell  \\r heaven from ...  \n",
       "4      walk around in the market  \\r late at night  ...  \n",
       "...                                                 ...  \n",
       "4995  i'll be home for christmas  \\r   \\r i'll be ho...  \n",
       "4996  the way to your heart  \\r the way to your hear...  \n",
       "4997  sunday, sunday, here again in tidy attire  \\r ...  \n",
       "4998  if you ever leave me, i'll be sadand blue  \\r ...  \n",
       "4999  excuse me please your majesty  \\r i chance thi...  \n",
       "\n",
       "[5000 rows x 3 columns]"
      ]
     },
     "execution_count": 51,
     "metadata": {},
     "output_type": "execute_result"
    }
   ],
   "source": [
    "#Text Cleaning  \n",
    "ds[\"text\"] = ds[\"text\"].str.lower().replace(r'^\\w\\s', ' ', regex = True).replace(r'\\n', ' ', regex = True)\n",
    "ds"
   ]
  },
  {
   "cell_type": "code",
   "execution_count": null,
   "id": "5f7aab06-8f1c-44f9-8f17-538d454d257f",
   "metadata": {},
   "outputs": [],
   "source": []
  },
  {
   "cell_type": "code",
   "execution_count": 54,
   "id": "9c67f985-091d-498c-a339-3929d928b062",
   "metadata": {},
   "outputs": [],
   "source": [
    "import nltk\n",
    "from nltk.stem.porter import PorterStemmer"
   ]
  },
  {
   "cell_type": "code",
   "execution_count": 56,
   "id": "23dcf13f-6f5e-4408-a582-31ca7d8f8bd4",
   "metadata": {},
   "outputs": [],
   "source": [
    "stemmer = PorterStemmer()"
   ]
  },
  {
   "cell_type": "code",
   "execution_count": 58,
   "id": "0a99415b-ca6b-434a-8e77-78b246f91d92",
   "metadata": {},
   "outputs": [],
   "source": [
    "def token(txt):\n",
    "    # Seperates words into an array; For example \"I was running\" -> tokens = [\"I\",\"was\",\"running\"]\n",
    "    tokens = nltk.word_tokenize(txt)\n",
    "    # Obtains the root word; For example if w was \"running\", \"runs\" \"ran\", they would all change to run,\n",
    "    a = [stemmer.stem(w) for w in tokens]\n",
    "    # Makes lists into sentence\n",
    "    return \" \".join(a)"
   ]
  },
  {
   "cell_type": "code",
   "execution_count": 60,
   "id": "2a1018d0-6073-4863-8896-5ce5c6a7bb34",
   "metadata": {},
   "outputs": [
    {
     "data": {
      "text/plain": [
       "'you are beauti'"
      ]
     },
     "execution_count": 60,
     "metadata": {},
     "output_type": "execute_result"
    }
   ],
   "source": [
    "#example of token operation, changes each sentence to contain only root words, useful for NLP\n",
    "token(\"you are beautiful\")"
   ]
  },
  {
   "cell_type": "code",
   "execution_count": 62,
   "id": "868e73bb-3a8f-4e01-b33f-401d91a6f916",
   "metadata": {},
   "outputs": [],
   "source": [
    "from sklearn.feature_extraction.text import TfidfVectorizer\n",
    "from sklearn.metrics.pairwise import cosine_similarity"
   ]
  },
  {
   "cell_type": "code",
   "execution_count": 64,
   "id": "24980e0a-1730-426a-9315-d9c1f990cb53",
   "metadata": {
    "scrolled": true
   },
   "outputs": [
    {
     "data": {
      "text/plain": [
       "0       wan na tell you 'bout texa radio and the big b...\n",
       "1       how mani dream am i look for in your eye , in ...\n",
       "2       hot lover , turn up the heat i want your sugar...\n",
       "3       so , so you think you can tell heaven from hel...\n",
       "4       walk around in the market late at night i walk...\n",
       "                              ...                        \n",
       "4995    i 'll be home for christma i 'll be home for c...\n",
       "4996    the way to your heart the way to your heart th...\n",
       "4997    sunday , sunday , here again in tidi attir you...\n",
       "4998    if you ever leav me , i 'll be sadand blue do ...\n",
       "4999    excus me pleas your majesti i chanc thi moment...\n",
       "Name: text, Length: 5000, dtype: object"
      ]
     },
     "execution_count": 64,
     "metadata": {},
     "output_type": "execute_result"
    }
   ],
   "source": [
    "# Now apply function onto the text of all the songs\n",
    "ds[\"text\"].apply(lambda x: token(x))"
   ]
  },
  {
   "cell_type": "code",
   "execution_count": 65,
   "id": "31226b0c-6860-43ee-9ccd-9ee85c975a61",
   "metadata": {},
   "outputs": [],
   "source": [
    "# TF = Term Frequency; IDF = Inverse Document Frequency; \n",
    "# Essentially it is weighing each word based on frequency; Stop_words are words for grammatical structure, which are not \n",
    "# Important for our case, such as \"and\" or \"the\";\n",
    "tfidf = TfidfVectorizer(analyzer=\"word\", stop_words=\"english\")"
   ]
  },
  {
   "cell_type": "code",
   "execution_count": 66,
   "id": "e17d4c61-b675-4e25-96a4-43e42abd34b3",
   "metadata": {},
   "outputs": [],
   "source": [
    "# Creates a matrix with words and frequency across different lyrics\n",
    "Matrix = tfidf.fit_transform(ds[\"text\"])"
   ]
  },
  {
   "cell_type": "code",
   "execution_count": 67,
   "id": "cd7a9858-ce8b-484a-a53c-65ca6e105606",
   "metadata": {},
   "outputs": [],
   "source": [
    "# Computes the angle between all pairs of vectors, vector positions are derived from how similar two lyrics using TF-IDF scores\n",
    "similarity = cosine_similarity(Matrix)"
   ]
  },
  {
   "cell_type": "code",
   "execution_count": 71,
   "id": "b98e79b7-3e3f-4b50-b949-d518667321ab",
   "metadata": {},
   "outputs": [
    {
     "data": {
      "text/plain": [
       "4998"
      ]
     },
     "execution_count": 71,
     "metadata": {},
     "output_type": "execute_result"
    }
   ],
   "source": [
    "# Example of how we can get the indexes and therefore data points, this will be implemented in our recommender function\n",
    "ds[ds['song'] == \"Bad To Me\"].index[0]"
   ]
  },
  {
   "cell_type": "code",
   "execution_count": 85,
   "id": "3fea0897-5421-45d9-947b-e3601654231b",
   "metadata": {},
   "outputs": [],
   "source": [
    "# Recommender function takes in a song \n",
    "def recommender(song_name):\n",
    "    # Grabs an index of a song as mentioned before\n",
    "    i = ds[ds[\"song\"]==song_name].index[0]\n",
    "    # Gets the similarity between two vectors based on distance between two song's lyrics \n",
    "        # Example: i = \"Bad Romance\"\n",
    "        # This will list out a sorted list of songs similar to \"Bad Romance\" (inclusive) in descending order\"\n",
    "        # [(0, 0.95), (1, 0.85), (2, 0.75), ...] -> [(3, 1.0), (0, 0.95), (1, 0.85), (4, 0.84), ...] \n",
    "    similar = sorted(list(enumerate(similarity[i])), reverse=True, key = lambda x:x[1])\n",
    "    song = []\n",
    "    # We don't need index 0 because that is the original song itself with a score of 1\n",
    "    for song_id in similar[1:5]:\n",
    "        song.append(ds.iloc[song_id[0]].song)\n",
    "    return song"
   ]
  },
  {
   "cell_type": "code",
   "execution_count": 87,
   "id": "12b2ecdd-3c2d-4349-a7c8-9755925aa03e",
   "metadata": {},
   "outputs": [
    {
     "data": {
      "text/plain": [
       "['Love Her All I Can', 'Bad Boy', 'Born Bad', 'If You Knew What I Know']"
      ]
     },
     "execution_count": 87,
     "metadata": {},
     "output_type": "execute_result"
    }
   ],
   "source": [
    "#Test:\n",
    "recommender(\"Bad To Me\")"
   ]
  },
  {
   "cell_type": "code",
   "execution_count": 89,
   "id": "b2cbe2e1-79fe-400e-9d7b-fdfc7337702f",
   "metadata": {},
   "outputs": [],
   "source": [
    "import pickle"
   ]
  },
  {
   "cell_type": "code",
   "execution_count": 97,
   "id": "5b306955-86d8-47c1-be08-c1146e9e6492",
   "metadata": {},
   "outputs": [],
   "source": [
    "pickle.dump(similarity, open(\"similarity.pkl\", \"wb\"))"
   ]
  },
  {
   "cell_type": "code",
   "execution_count": 98,
   "id": "a31a58bc-f0a9-40f7-b8d2-a9d87d48e87b",
   "metadata": {},
   "outputs": [],
   "source": [
    "pickle.dump(ds, open(\"ds.pkl\",\"wb\"))"
   ]
  },
  {
   "cell_type": "code",
   "execution_count": null,
   "id": "80c3b624-d552-495f-82f7-9381461343c3",
   "metadata": {},
   "outputs": [],
   "source": []
  }
 ],
 "metadata": {
  "kernelspec": {
   "display_name": "Python [conda env:base] *",
   "language": "python",
   "name": "conda-base-py"
  },
  "language_info": {
   "codemirror_mode": {
    "name": "ipython",
    "version": 3
   },
   "file_extension": ".py",
   "mimetype": "text/x-python",
   "name": "python",
   "nbconvert_exporter": "python",
   "pygments_lexer": "ipython3",
   "version": "3.12.4"
  }
 },
 "nbformat": 4,
 "nbformat_minor": 5
}
